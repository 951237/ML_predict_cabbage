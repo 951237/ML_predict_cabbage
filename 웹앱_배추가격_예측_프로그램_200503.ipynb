{
  "nbformat": 4,
  "nbformat_minor": 0,
  "metadata": {
    "colab": {
      "name": "웹앱_배추가격 예측 프로그램_200503",
      "provenance": [],
      "collapsed_sections": [],
      "toc_visible": true,
      "mount_file_id": "1RAJZLzQyt-kD_L3p8emzuXZCK3d8RP7-",
      "authorship_tag": "ABX9TyNY1ZW2tpndBF3bbamviBuu",
      "include_colab_link": true
    },
    "kernelspec": {
      "name": "python3",
      "display_name": "Python 3"
    },
    "accelerator": "TPU"
  },
  "cells": [
    {
      "cell_type": "markdown",
      "metadata": {
        "id": "view-in-github",
        "colab_type": "text"
      },
      "source": [
        "<a href=\"https://colab.research.google.com/github/951237/ML_predict_cabbage/blob/master/%EC%9B%B9%EC%95%B1_%EB%B0%B0%EC%B6%94%EA%B0%80%EA%B2%A9_%EC%98%88%EC%B8%A1_%ED%94%84%EB%A1%9C%EA%B7%B8%EB%9E%A8_200503.ipynb\" target=\"_parent\"><img src=\"https://colab.research.google.com/assets/colab-badge.svg\" alt=\"Open In Colab\"/></a>"
      ]
    },
    {
      "cell_type": "markdown",
      "metadata": {
        "id": "9Ex-ltZEYF0W",
        "colab_type": "text"
      },
      "source": [
        "## TIL - 200210 : 배추가격 예측 AI로봇 \n",
        "- 링크 : https://youtu.be/wZvhBVqitn8"
      ]
    },
    {
      "cell_type": "markdown",
      "metadata": {
        "id": "yvDpBBejYOz3",
        "colab_type": "text"
      },
      "source": [
        "## TIL - 200209 텐서플로 따라하기(안경잡이 개발자)\n",
        "- x축은 시간 \n",
        "- y축은 임금\n",
        "- 데이터를 기반으로 추후 임금 구하기"
      ]
    },
    {
      "cell_type": "markdown",
      "metadata": {
        "id": "gtfubOpu1JSl",
        "colab_type": "text"
      },
      "source": [
        ""
      ]
    },
    {
      "cell_type": "markdown",
      "metadata": {
        "id": "a8rJ6L-Z2p0R",
        "colab_type": "text"
      },
      "source": [
        "### 데이터 수집\n",
        "- 기상자료개방포털 \n",
        "    - 기온 : https://data.kma.go.kr/stcs/grnd/grndTaList.do?pgmNo=70\n",
        "    - 강수량 : https://data.kma.go.kr/stcs/grnd/grndRnList.do?pgmNo=69\n",
        "- 농산물 유통정보 / 채소류 / 배추 / 전체품종\n",
        "    - 소매가격 / 최소가격\n",
        "\n",
        "### 데이터 정제\n",
        "- 평균기온, 최저기온, 최고기온, 강수량, 가격"
      ]
    },
    {
      "cell_type": "markdown",
      "metadata": {
        "id": "X4Vqjjvn4vMm",
        "colab_type": "text"
      },
      "source": [
        "### 텐서플로 다변인 선형 모델 계발하기\n",
        "- 변수가 여러가지 인경우 다변인 선형 회귀모델 적용\n",
        "    - 식 : H(x1, x2, x3, x4) = x1w1 + x2w2 + x3w3 + x4w4 \n",
        "        - 모든 변인이 가격에 영향을 미친다고 감안. 가중치를 고려하여 식을 세움.\n",
        "        - 행렬의 곱을 이요한 식 : H(X) = XW\n",
        "    - 학습률 : 0.000005"
      ]
    },
    {
      "cell_type": "markdown",
      "metadata": {
        "id": "nMEP8pyntsn0",
        "colab_type": "text"
      },
      "source": [
        "## 텐서플로 2.0 변환 성공\n",
        "\n",
        "참고 : https://leejigun.github.io/tensorflow2_2\n",
        "\n",
        "멀티회구 예측 : https://leejigun.github.io/tensorflow2_3\n",
        "\n",
        "다변인 선형회귀(good) : https://sdc-james.gitbook.io/onebook/4.-and/5.4.-tensorflow/5.4.1.-keras\n",
        "\n",
        "추가작업 : 학습중 결과 보여주기"
      ]
    },
    {
      "cell_type": "markdown",
      "metadata": {
        "id": "nSKK6HbRyXme",
        "colab_type": "text"
      },
      "source": [
        "### 훈련하기"
      ]
    },
    {
      "cell_type": "code",
      "metadata": {
        "id": "k6A9p0Mvrb2v",
        "colab_type": "code",
        "colab": {}
      },
      "source": [
        "\n",
        "# 라이브러리 호출\n",
        "from tensorflow.keras.models import Sequential\n",
        "from tensorflow.keras.layers import Dense\n",
        "from tensorflow.keras.optimizers import SGD\n",
        "from sklearn.preprocessing import LabelEncoder\n",
        "from tensorflow import keras\n",
        "\n",
        "import tensorflow as tf\n",
        "import numpy as np\n",
        "import pandas as pd\n",
        "\n",
        "# 실행할때마다 같은 결과를 출력하기 위해 설정하는 부분\n",
        "np.random.seed(3)\n",
        "tf.random.set_seed(3)\n",
        "\n",
        "# 데이터 불러오기\n",
        "data = pd.read_csv('/content/drive/My Drive/data/ML/배추가격_데이터_예제_price data.csv')   # 데이터 파일 불러오기\n",
        "\n",
        "# 학습데이터 준비하기\n",
        "xy = np.array(data, dtype=np.float32)       # 데이터를 넘파이 값으로 담기 \n",
        "x_data = xy[:1700, 1:-1]    # 모든행을 선택, 열은 2번째 부터 끝에서 2번째 열까지 선택(변수 4가지)\n",
        "y_data = xy[:1700, [-1]]    # 모든행, 마지막 열 선택(가격)\n",
        "x_val = xy[1700:2000, 1:-1]    # 모든행을 선택, 열은 2번째 부터 끝에서 2번째 열까지 선택(변수 4가지)\n",
        "y_val = xy[1700:2000, [-1]]    # 모든행, 마지막 열 선택(가격)\n",
        "x_test = xy[2000:, 1:-1]    # 모든행을 선택, 열은 2번째 부터 끝에서 2번째 열까지 선택(변수 4가지)\n",
        "y_test = xy[2000:, [-1]]    # 모든행, 마지막 열 선택(가격)"
      ],
      "execution_count": 0,
      "outputs": []
    },
    {
      "cell_type": "code",
      "metadata": {
        "id": "wC6xlwAfcHQZ",
        "colab_type": "code",
        "colab": {
          "base_uri": "https://localhost:8080/",
          "height": 34
        },
        "outputId": "6e54b6d0-4eb5-4ec1-e2c4-7e769d1dbd2e"
      },
      "source": [
        "x_val.shape"
      ],
      "execution_count": 9,
      "outputs": [
        {
          "output_type": "execute_result",
          "data": {
            "text/plain": [
              "(300, 4)"
            ]
          },
          "metadata": {
            "tags": []
          },
          "execution_count": 9
        }
      ]
    },
    {
      "cell_type": "markdown",
      "metadata": {
        "id": "h6SwAID-btKy",
        "colab_type": "text"
      },
      "source": [
        "### 모델 설정하기 및 컴파일"
      ]
    },
    {
      "cell_type": "code",
      "metadata": {
        "id": "HBqIReX0bnhi",
        "colab_type": "code",
        "colab": {
          "base_uri": "https://localhost:8080/",
          "height": 1000
        },
        "outputId": "5ce1aec8-91d8-4bb7-b90f-894101c5f92f"
      },
      "source": [
        "# 모델 설정하기\n",
        "model = Sequential()\n",
        "model.add(Dense(1, input_dim = 4))\n",
        "sgd = SGD(learning_rate=0.0005)\n",
        "\n",
        "# 모델 컴파일\n",
        "model.compile(loss='mean_squared_error', optimizer=sgd, metrics=['accuracy'])\n",
        "model.summary\n",
        "\n",
        "hist = model.fit(x_data, y_data, epochs = 200, batch_size=10, validation_data=(x_val, y_val))"
      ],
      "execution_count": 12,
      "outputs": [
        {
          "output_type": "stream",
          "text": [
            "Epoch 1/200\n",
            "170/170 [==============================] - 0s 1ms/step - loss: 2906890.0000 - accuracy: 0.0000e+00 - val_loss: 876980.3125 - val_accuracy: 0.0000e+00\n",
            "Epoch 2/200\n",
            "170/170 [==============================] - 0s 1ms/step - loss: 2472111.2500 - accuracy: 0.0000e+00 - val_loss: 859460.7500 - val_accuracy: 0.0000e+00\n",
            "Epoch 3/200\n",
            "170/170 [==============================] - 0s 1ms/step - loss: 2523371.7500 - accuracy: 0.0000e+00 - val_loss: 1013733.3125 - val_accuracy: 0.0000e+00\n",
            "Epoch 4/200\n",
            "170/170 [==============================] - 0s 1ms/step - loss: 2439450.2500 - accuracy: 0.0000e+00 - val_loss: 1301172.0000 - val_accuracy: 0.0000e+00\n",
            "Epoch 5/200\n",
            "170/170 [==============================] - 0s 1ms/step - loss: 2386968.5000 - accuracy: 0.0000e+00 - val_loss: 760332.2500 - val_accuracy: 0.0000e+00\n",
            "Epoch 6/200\n",
            "170/170 [==============================] - 0s 1ms/step - loss: 2442542.7500 - accuracy: 0.0000e+00 - val_loss: 806544.9375 - val_accuracy: 0.0000e+00\n",
            "Epoch 7/200\n",
            "170/170 [==============================] - 0s 1ms/step - loss: 2449544.5000 - accuracy: 0.0000e+00 - val_loss: 1031982.7500 - val_accuracy: 0.0000e+00\n",
            "Epoch 8/200\n",
            "170/170 [==============================] - 0s 1ms/step - loss: 2454567.0000 - accuracy: 0.0000e+00 - val_loss: 876634.5000 - val_accuracy: 0.0000e+00\n",
            "Epoch 9/200\n",
            "170/170 [==============================] - 0s 1ms/step - loss: 2462591.7500 - accuracy: 0.0000e+00 - val_loss: 979054.9375 - val_accuracy: 0.0000e+00\n",
            "Epoch 10/200\n",
            "170/170 [==============================] - 0s 1ms/step - loss: 2476633.5000 - accuracy: 0.0000e+00 - val_loss: 1005469.5625 - val_accuracy: 0.0000e+00\n",
            "Epoch 11/200\n",
            "170/170 [==============================] - 0s 1ms/step - loss: 2381013.5000 - accuracy: 0.0000e+00 - val_loss: 1331512.3750 - val_accuracy: 0.0000e+00\n",
            "Epoch 12/200\n",
            "170/170 [==============================] - 0s 1ms/step - loss: 2314487.7500 - accuracy: 0.0000e+00 - val_loss: 1250310.3750 - val_accuracy: 0.0000e+00\n",
            "Epoch 13/200\n",
            "170/170 [==============================] - 0s 1ms/step - loss: 2406434.2500 - accuracy: 0.0000e+00 - val_loss: 867864.3125 - val_accuracy: 0.0000e+00\n",
            "Epoch 14/200\n",
            "170/170 [==============================] - 0s 1ms/step - loss: 2312041.7500 - accuracy: 0.0000e+00 - val_loss: 875827.0625 - val_accuracy: 0.0000e+00\n",
            "Epoch 15/200\n",
            "170/170 [==============================] - 0s 1ms/step - loss: 2410734.2500 - accuracy: 0.0000e+00 - val_loss: 1129806.6250 - val_accuracy: 0.0000e+00\n",
            "Epoch 16/200\n",
            "170/170 [==============================] - 0s 1ms/step - loss: 2305066.0000 - accuracy: 0.0000e+00 - val_loss: 800305.5000 - val_accuracy: 0.0000e+00\n",
            "Epoch 17/200\n",
            "170/170 [==============================] - 0s 1ms/step - loss: 2313720.5000 - accuracy: 0.0000e+00 - val_loss: 833415.8125 - val_accuracy: 0.0000e+00\n",
            "Epoch 18/200\n",
            "170/170 [==============================] - 0s 1ms/step - loss: 2369823.2500 - accuracy: 0.0000e+00 - val_loss: 1160023.3750 - val_accuracy: 0.0000e+00\n",
            "Epoch 19/200\n",
            "170/170 [==============================] - 0s 1ms/step - loss: 2303123.5000 - accuracy: 0.0000e+00 - val_loss: 810995.8125 - val_accuracy: 0.0000e+00\n",
            "Epoch 20/200\n",
            "170/170 [==============================] - 0s 1ms/step - loss: 2313588.0000 - accuracy: 0.0000e+00 - val_loss: 1019403.0625 - val_accuracy: 0.0000e+00\n",
            "Epoch 21/200\n",
            "170/170 [==============================] - 0s 1ms/step - loss: 2279803.7500 - accuracy: 0.0000e+00 - val_loss: 853213.5000 - val_accuracy: 0.0000e+00\n",
            "Epoch 22/200\n",
            "170/170 [==============================] - 0s 1ms/step - loss: 2343149.2500 - accuracy: 0.0000e+00 - val_loss: 1130543.2500 - val_accuracy: 0.0000e+00\n",
            "Epoch 23/200\n",
            "170/170 [==============================] - 0s 1ms/step - loss: 2297300.0000 - accuracy: 0.0000e+00 - val_loss: 1785968.6250 - val_accuracy: 0.0000e+00\n",
            "Epoch 24/200\n",
            "170/170 [==============================] - 0s 1ms/step - loss: 2340018.2500 - accuracy: 0.0000e+00 - val_loss: 743896.0000 - val_accuracy: 0.0000e+00\n",
            "Epoch 25/200\n",
            "170/170 [==============================] - 0s 1ms/step - loss: 2253734.0000 - accuracy: 0.0000e+00 - val_loss: 930012.0625 - val_accuracy: 0.0000e+00\n",
            "Epoch 26/200\n",
            "170/170 [==============================] - 0s 1ms/step - loss: 2278733.7500 - accuracy: 0.0000e+00 - val_loss: 1456325.2500 - val_accuracy: 0.0000e+00\n",
            "Epoch 27/200\n",
            "170/170 [==============================] - 0s 1ms/step - loss: 2293563.7500 - accuracy: 0.0000e+00 - val_loss: 724116.5625 - val_accuracy: 0.0000e+00\n",
            "Epoch 28/200\n",
            "170/170 [==============================] - 0s 1ms/step - loss: 2243557.0000 - accuracy: 0.0000e+00 - val_loss: 805493.8750 - val_accuracy: 0.0000e+00\n",
            "Epoch 29/200\n",
            "170/170 [==============================] - 0s 1ms/step - loss: 2264251.5000 - accuracy: 0.0000e+00 - val_loss: 847653.0000 - val_accuracy: 0.0000e+00\n",
            "Epoch 30/200\n",
            "170/170 [==============================] - 0s 1ms/step - loss: 2256238.7500 - accuracy: 0.0000e+00 - val_loss: 830938.6250 - val_accuracy: 0.0000e+00\n",
            "Epoch 31/200\n",
            "170/170 [==============================] - 0s 1ms/step - loss: 2245448.0000 - accuracy: 0.0000e+00 - val_loss: 820588.0000 - val_accuracy: 0.0000e+00\n",
            "Epoch 32/200\n",
            "170/170 [==============================] - 0s 1ms/step - loss: 2241182.2500 - accuracy: 0.0000e+00 - val_loss: 1227873.2500 - val_accuracy: 0.0000e+00\n",
            "Epoch 33/200\n",
            "170/170 [==============================] - 0s 1ms/step - loss: 2251777.2500 - accuracy: 0.0000e+00 - val_loss: 1551591.0000 - val_accuracy: 0.0000e+00\n",
            "Epoch 34/200\n",
            "170/170 [==============================] - 0s 1ms/step - loss: 2265202.5000 - accuracy: 0.0000e+00 - val_loss: 704567.4375 - val_accuracy: 0.0000e+00\n",
            "Epoch 35/200\n",
            "170/170 [==============================] - 0s 1ms/step - loss: 2205372.0000 - accuracy: 0.0000e+00 - val_loss: 873745.0000 - val_accuracy: 0.0000e+00\n",
            "Epoch 36/200\n",
            "170/170 [==============================] - 0s 1ms/step - loss: 2233759.7500 - accuracy: 0.0000e+00 - val_loss: 873405.3125 - val_accuracy: 0.0000e+00\n",
            "Epoch 37/200\n",
            "170/170 [==============================] - 0s 1ms/step - loss: 2219224.7500 - accuracy: 0.0000e+00 - val_loss: 705779.4375 - val_accuracy: 0.0000e+00\n",
            "Epoch 38/200\n",
            "170/170 [==============================] - 0s 1ms/step - loss: 2242304.7500 - accuracy: 0.0000e+00 - val_loss: 1194056.3750 - val_accuracy: 0.0000e+00\n",
            "Epoch 39/200\n",
            "170/170 [==============================] - 0s 1ms/step - loss: 2146508.0000 - accuracy: 0.0000e+00 - val_loss: 822759.1250 - val_accuracy: 0.0000e+00\n",
            "Epoch 40/200\n",
            "170/170 [==============================] - 0s 1ms/step - loss: 2245231.5000 - accuracy: 0.0000e+00 - val_loss: 942305.2500 - val_accuracy: 0.0000e+00\n",
            "Epoch 41/200\n",
            "170/170 [==============================] - 0s 1ms/step - loss: 2210559.7500 - accuracy: 0.0000e+00 - val_loss: 720115.5000 - val_accuracy: 0.0000e+00\n",
            "Epoch 42/200\n",
            "170/170 [==============================] - 0s 1ms/step - loss: 2186176.2500 - accuracy: 0.0000e+00 - val_loss: 886368.5625 - val_accuracy: 0.0000e+00\n",
            "Epoch 43/200\n",
            "170/170 [==============================] - 0s 1ms/step - loss: 2222225.5000 - accuracy: 0.0000e+00 - val_loss: 767394.0000 - val_accuracy: 0.0000e+00\n",
            "Epoch 44/200\n",
            "170/170 [==============================] - 0s 1ms/step - loss: 2204550.2500 - accuracy: 0.0000e+00 - val_loss: 949993.3750 - val_accuracy: 0.0000e+00\n",
            "Epoch 45/200\n",
            "170/170 [==============================] - 0s 1ms/step - loss: 2160092.5000 - accuracy: 0.0000e+00 - val_loss: 702060.5000 - val_accuracy: 0.0000e+00\n",
            "Epoch 46/200\n",
            "170/170 [==============================] - 0s 1ms/step - loss: 2225330.0000 - accuracy: 0.0000e+00 - val_loss: 992547.0000 - val_accuracy: 0.0000e+00\n",
            "Epoch 47/200\n",
            "170/170 [==============================] - 0s 1ms/step - loss: 2229745.5000 - accuracy: 0.0000e+00 - val_loss: 890087.9375 - val_accuracy: 0.0000e+00\n",
            "Epoch 48/200\n",
            "170/170 [==============================] - 0s 1ms/step - loss: 2160169.5000 - accuracy: 0.0000e+00 - val_loss: 985382.0625 - val_accuracy: 0.0000e+00\n",
            "Epoch 49/200\n",
            "170/170 [==============================] - 0s 1ms/step - loss: 2160679.7500 - accuracy: 0.0000e+00 - val_loss: 945750.9375 - val_accuracy: 0.0000e+00\n",
            "Epoch 50/200\n",
            "170/170 [==============================] - 0s 1ms/step - loss: 2163103.5000 - accuracy: 0.0000e+00 - val_loss: 964701.8750 - val_accuracy: 0.0000e+00\n",
            "Epoch 51/200\n",
            "170/170 [==============================] - 0s 1ms/step - loss: 2181380.0000 - accuracy: 0.0000e+00 - val_loss: 772825.8750 - val_accuracy: 0.0000e+00\n",
            "Epoch 52/200\n",
            "170/170 [==============================] - 0s 1ms/step - loss: 2168219.2500 - accuracy: 0.0000e+00 - val_loss: 1281760.5000 - val_accuracy: 0.0000e+00\n",
            "Epoch 53/200\n",
            "170/170 [==============================] - 0s 1ms/step - loss: 2183891.0000 - accuracy: 0.0000e+00 - val_loss: 1031911.3750 - val_accuracy: 0.0000e+00\n",
            "Epoch 54/200\n",
            "170/170 [==============================] - 0s 1ms/step - loss: 2135527.2500 - accuracy: 0.0000e+00 - val_loss: 756851.3125 - val_accuracy: 0.0000e+00\n",
            "Epoch 55/200\n",
            "170/170 [==============================] - 0s 1ms/step - loss: 2175835.2500 - accuracy: 0.0000e+00 - val_loss: 920832.7500 - val_accuracy: 0.0000e+00\n",
            "Epoch 56/200\n",
            "170/170 [==============================] - 0s 1ms/step - loss: 2159731.7500 - accuracy: 0.0000e+00 - val_loss: 890728.9375 - val_accuracy: 0.0000e+00\n",
            "Epoch 57/200\n",
            "170/170 [==============================] - 0s 1ms/step - loss: 2163419.0000 - accuracy: 0.0000e+00 - val_loss: 1017789.3125 - val_accuracy: 0.0000e+00\n",
            "Epoch 58/200\n",
            "170/170 [==============================] - 0s 1ms/step - loss: 2158728.2500 - accuracy: 0.0000e+00 - val_loss: 705644.2500 - val_accuracy: 0.0000e+00\n",
            "Epoch 59/200\n",
            "170/170 [==============================] - 0s 1ms/step - loss: 2203307.5000 - accuracy: 0.0000e+00 - val_loss: 1461982.6250 - val_accuracy: 0.0000e+00\n",
            "Epoch 60/200\n",
            "170/170 [==============================] - 0s 1ms/step - loss: 2177448.5000 - accuracy: 0.0000e+00 - val_loss: 702629.8125 - val_accuracy: 0.0000e+00\n",
            "Epoch 61/200\n",
            "170/170 [==============================] - 0s 1ms/step - loss: 2111277.2500 - accuracy: 0.0000e+00 - val_loss: 689976.8750 - val_accuracy: 0.0000e+00\n",
            "Epoch 62/200\n",
            "170/170 [==============================] - 0s 1ms/step - loss: 2092816.7500 - accuracy: 0.0000e+00 - val_loss: 822825.1875 - val_accuracy: 0.0000e+00\n",
            "Epoch 63/200\n",
            "170/170 [==============================] - 0s 1ms/step - loss: 2128296.7500 - accuracy: 0.0000e+00 - val_loss: 795874.5000 - val_accuracy: 0.0000e+00\n",
            "Epoch 64/200\n",
            "170/170 [==============================] - 0s 1ms/step - loss: 2133298.5000 - accuracy: 0.0000e+00 - val_loss: 818140.5625 - val_accuracy: 0.0000e+00\n",
            "Epoch 65/200\n",
            "170/170 [==============================] - 0s 1ms/step - loss: 2108929.7500 - accuracy: 0.0000e+00 - val_loss: 740263.3125 - val_accuracy: 0.0000e+00\n",
            "Epoch 66/200\n",
            "170/170 [==============================] - 0s 1ms/step - loss: 2115589.5000 - accuracy: 0.0000e+00 - val_loss: 742313.2500 - val_accuracy: 0.0000e+00\n",
            "Epoch 67/200\n",
            "170/170 [==============================] - 0s 1ms/step - loss: 2113375.5000 - accuracy: 0.0000e+00 - val_loss: 720017.6250 - val_accuracy: 0.0000e+00\n",
            "Epoch 68/200\n",
            "170/170 [==============================] - 0s 1ms/step - loss: 2133411.2500 - accuracy: 0.0000e+00 - val_loss: 802840.0625 - val_accuracy: 0.0000e+00\n",
            "Epoch 69/200\n",
            "170/170 [==============================] - 0s 1ms/step - loss: 2122771.5000 - accuracy: 0.0000e+00 - val_loss: 859855.1250 - val_accuracy: 0.0000e+00\n",
            "Epoch 70/200\n",
            "170/170 [==============================] - 0s 1ms/step - loss: 2107549.7500 - accuracy: 0.0000e+00 - val_loss: 805369.0000 - val_accuracy: 0.0000e+00\n",
            "Epoch 71/200\n",
            "170/170 [==============================] - 0s 1ms/step - loss: 2096920.0000 - accuracy: 0.0000e+00 - val_loss: 934687.4375 - val_accuracy: 0.0000e+00\n",
            "Epoch 72/200\n",
            "170/170 [==============================] - 0s 1ms/step - loss: 2173589.5000 - accuracy: 0.0000e+00 - val_loss: 832948.5625 - val_accuracy: 0.0000e+00\n",
            "Epoch 73/200\n",
            "170/170 [==============================] - 0s 1ms/step - loss: 2085502.2500 - accuracy: 0.0000e+00 - val_loss: 716889.0625 - val_accuracy: 0.0000e+00\n",
            "Epoch 74/200\n",
            "170/170 [==============================] - 0s 1ms/step - loss: 2114355.2500 - accuracy: 0.0000e+00 - val_loss: 752248.9375 - val_accuracy: 0.0000e+00\n",
            "Epoch 75/200\n",
            "170/170 [==============================] - 0s 1ms/step - loss: 2103163.0000 - accuracy: 0.0000e+00 - val_loss: 815824.8750 - val_accuracy: 0.0000e+00\n",
            "Epoch 76/200\n",
            "170/170 [==============================] - 0s 1ms/step - loss: 2098054.7500 - accuracy: 0.0000e+00 - val_loss: 761440.1250 - val_accuracy: 0.0000e+00\n",
            "Epoch 77/200\n",
            "170/170 [==============================] - 0s 1ms/step - loss: 2111889.0000 - accuracy: 0.0000e+00 - val_loss: 779625.1875 - val_accuracy: 0.0000e+00\n",
            "Epoch 78/200\n",
            "170/170 [==============================] - 0s 1ms/step - loss: 2072517.3750 - accuracy: 0.0000e+00 - val_loss: 692653.6875 - val_accuracy: 0.0000e+00\n",
            "Epoch 79/200\n",
            "170/170 [==============================] - 0s 1ms/step - loss: 2068054.2500 - accuracy: 0.0000e+00 - val_loss: 666023.6875 - val_accuracy: 0.0000e+00\n",
            "Epoch 80/200\n",
            "170/170 [==============================] - 0s 1ms/step - loss: 2118196.5000 - accuracy: 0.0000e+00 - val_loss: 792262.8750 - val_accuracy: 0.0000e+00\n",
            "Epoch 81/200\n",
            "170/170 [==============================] - 0s 1ms/step - loss: 2095417.1250 - accuracy: 0.0000e+00 - val_loss: 689147.1250 - val_accuracy: 0.0000e+00\n",
            "Epoch 82/200\n",
            "170/170 [==============================] - 0s 1ms/step - loss: 2043563.5000 - accuracy: 0.0000e+00 - val_loss: 1506148.1250 - val_accuracy: 0.0000e+00\n",
            "Epoch 83/200\n",
            "170/170 [==============================] - 0s 1ms/step - loss: 2109441.0000 - accuracy: 0.0000e+00 - val_loss: 765903.4375 - val_accuracy: 0.0000e+00\n",
            "Epoch 84/200\n",
            "170/170 [==============================] - 0s 1ms/step - loss: 2121760.5000 - accuracy: 0.0000e+00 - val_loss: 1023021.6250 - val_accuracy: 0.0000e+00\n",
            "Epoch 85/200\n",
            "170/170 [==============================] - 0s 1ms/step - loss: 2106790.5000 - accuracy: 0.0000e+00 - val_loss: 1602000.7500 - val_accuracy: 0.0000e+00\n",
            "Epoch 86/200\n",
            "170/170 [==============================] - 0s 1ms/step - loss: 2062259.3750 - accuracy: 0.0000e+00 - val_loss: 690519.8125 - val_accuracy: 0.0000e+00\n",
            "Epoch 87/200\n",
            "170/170 [==============================] - 0s 1ms/step - loss: 2110768.7500 - accuracy: 0.0000e+00 - val_loss: 673396.9375 - val_accuracy: 0.0000e+00\n",
            "Epoch 88/200\n",
            "170/170 [==============================] - 0s 1ms/step - loss: 2095475.0000 - accuracy: 0.0000e+00 - val_loss: 676500.0000 - val_accuracy: 0.0000e+00\n",
            "Epoch 89/200\n",
            "170/170 [==============================] - 0s 1ms/step - loss: 2071027.7500 - accuracy: 0.0000e+00 - val_loss: 700711.4375 - val_accuracy: 0.0000e+00\n",
            "Epoch 90/200\n",
            "170/170 [==============================] - 0s 1ms/step - loss: 2072834.1250 - accuracy: 0.0000e+00 - val_loss: 926460.5625 - val_accuracy: 0.0000e+00\n",
            "Epoch 91/200\n",
            "170/170 [==============================] - 0s 1ms/step - loss: 2104018.7500 - accuracy: 0.0000e+00 - val_loss: 663665.4375 - val_accuracy: 0.0000e+00\n",
            "Epoch 92/200\n",
            "170/170 [==============================] - 0s 1ms/step - loss: 2089451.3750 - accuracy: 0.0000e+00 - val_loss: 776326.5625 - val_accuracy: 0.0000e+00\n",
            "Epoch 93/200\n",
            "170/170 [==============================] - 0s 1ms/step - loss: 2073543.8750 - accuracy: 0.0000e+00 - val_loss: 1192661.3750 - val_accuracy: 0.0000e+00\n",
            "Epoch 94/200\n",
            "170/170 [==============================] - 0s 1ms/step - loss: 2079005.5000 - accuracy: 0.0000e+00 - val_loss: 740693.2500 - val_accuracy: 0.0000e+00\n",
            "Epoch 95/200\n",
            "170/170 [==============================] - 0s 1ms/step - loss: 2056255.7500 - accuracy: 0.0000e+00 - val_loss: 736157.3125 - val_accuracy: 0.0000e+00\n",
            "Epoch 96/200\n",
            "170/170 [==============================] - 0s 1ms/step - loss: 2052204.0000 - accuracy: 0.0000e+00 - val_loss: 730020.1875 - val_accuracy: 0.0000e+00\n",
            "Epoch 97/200\n",
            "170/170 [==============================] - 0s 1ms/step - loss: 2072598.2500 - accuracy: 0.0000e+00 - val_loss: 1082562.3750 - val_accuracy: 0.0000e+00\n",
            "Epoch 98/200\n",
            "170/170 [==============================] - 0s 1ms/step - loss: 2071383.3750 - accuracy: 0.0000e+00 - val_loss: 803201.5625 - val_accuracy: 0.0000e+00\n",
            "Epoch 99/200\n",
            "170/170 [==============================] - 0s 1ms/step - loss: 2109416.7500 - accuracy: 0.0000e+00 - val_loss: 681438.0625 - val_accuracy: 0.0000e+00\n",
            "Epoch 100/200\n",
            "170/170 [==============================] - 0s 1ms/step - loss: 2107703.5000 - accuracy: 0.0000e+00 - val_loss: 688295.0625 - val_accuracy: 0.0000e+00\n",
            "Epoch 101/200\n",
            "170/170 [==============================] - 0s 1ms/step - loss: 2089056.8750 - accuracy: 0.0000e+00 - val_loss: 790291.9375 - val_accuracy: 0.0000e+00\n",
            "Epoch 102/200\n",
            "170/170 [==============================] - 0s 1ms/step - loss: 2067722.0000 - accuracy: 0.0000e+00 - val_loss: 1004760.0000 - val_accuracy: 0.0000e+00\n",
            "Epoch 103/200\n",
            "170/170 [==============================] - 0s 1ms/step - loss: 2074912.6250 - accuracy: 0.0000e+00 - val_loss: 764028.9375 - val_accuracy: 0.0000e+00\n",
            "Epoch 104/200\n",
            "170/170 [==============================] - 0s 1ms/step - loss: 2041331.6250 - accuracy: 0.0000e+00 - val_loss: 729273.4375 - val_accuracy: 0.0000e+00\n",
            "Epoch 105/200\n",
            "170/170 [==============================] - 0s 1ms/step - loss: 2071267.5000 - accuracy: 0.0000e+00 - val_loss: 845436.1875 - val_accuracy: 0.0000e+00\n",
            "Epoch 106/200\n",
            "170/170 [==============================] - 0s 1ms/step - loss: 2139195.0000 - accuracy: 0.0000e+00 - val_loss: 752600.5000 - val_accuracy: 0.0000e+00\n",
            "Epoch 107/200\n",
            "170/170 [==============================] - 0s 1ms/step - loss: 2029399.7500 - accuracy: 0.0000e+00 - val_loss: 1243726.1250 - val_accuracy: 0.0000e+00\n",
            "Epoch 108/200\n",
            "170/170 [==============================] - 0s 1ms/step - loss: 2030446.1250 - accuracy: 0.0000e+00 - val_loss: 677926.3125 - val_accuracy: 0.0000e+00\n",
            "Epoch 109/200\n",
            "170/170 [==============================] - 0s 1ms/step - loss: 2034311.6250 - accuracy: 0.0000e+00 - val_loss: 707779.3125 - val_accuracy: 0.0000e+00\n",
            "Epoch 110/200\n",
            "170/170 [==============================] - 0s 1ms/step - loss: 2095734.2500 - accuracy: 0.0000e+00 - val_loss: 965875.0000 - val_accuracy: 0.0000e+00\n",
            "Epoch 111/200\n",
            "170/170 [==============================] - 0s 1ms/step - loss: 2068107.1250 - accuracy: 0.0000e+00 - val_loss: 862442.7500 - val_accuracy: 0.0000e+00\n",
            "Epoch 112/200\n",
            "170/170 [==============================] - 0s 1ms/step - loss: 2055659.3750 - accuracy: 0.0000e+00 - val_loss: 713449.8125 - val_accuracy: 0.0000e+00\n",
            "Epoch 113/200\n",
            "170/170 [==============================] - 0s 1ms/step - loss: 2052079.0000 - accuracy: 0.0000e+00 - val_loss: 681104.5625 - val_accuracy: 0.0000e+00\n",
            "Epoch 114/200\n",
            "170/170 [==============================] - 0s 1ms/step - loss: 2063879.1250 - accuracy: 0.0000e+00 - val_loss: 996039.3750 - val_accuracy: 0.0000e+00\n",
            "Epoch 115/200\n",
            "170/170 [==============================] - 0s 1ms/step - loss: 2014631.8750 - accuracy: 0.0000e+00 - val_loss: 702481.5625 - val_accuracy: 0.0000e+00\n",
            "Epoch 116/200\n",
            "170/170 [==============================] - 0s 1ms/step - loss: 2048442.1250 - accuracy: 0.0000e+00 - val_loss: 1791809.5000 - val_accuracy: 0.0000e+00\n",
            "Epoch 117/200\n",
            "170/170 [==============================] - 0s 1ms/step - loss: 2018918.1250 - accuracy: 0.0000e+00 - val_loss: 939607.6875 - val_accuracy: 0.0000e+00\n",
            "Epoch 118/200\n",
            "170/170 [==============================] - 0s 1ms/step - loss: 2052004.1250 - accuracy: 0.0000e+00 - val_loss: 775113.2500 - val_accuracy: 0.0000e+00\n",
            "Epoch 119/200\n",
            "170/170 [==============================] - 0s 1ms/step - loss: 2160274.0000 - accuracy: 0.0000e+00 - val_loss: 950152.4375 - val_accuracy: 0.0000e+00\n",
            "Epoch 120/200\n",
            "170/170 [==============================] - 0s 1ms/step - loss: 2042646.8750 - accuracy: 0.0000e+00 - val_loss: 1527676.7500 - val_accuracy: 0.0000e+00\n",
            "Epoch 121/200\n",
            "170/170 [==============================] - 0s 1ms/step - loss: 2019873.0000 - accuracy: 0.0000e+00 - val_loss: 745290.3125 - val_accuracy: 0.0000e+00\n",
            "Epoch 122/200\n",
            "170/170 [==============================] - 0s 1ms/step - loss: 2062339.0000 - accuracy: 0.0000e+00 - val_loss: 712931.5000 - val_accuracy: 0.0000e+00\n",
            "Epoch 123/200\n",
            "170/170 [==============================] - 0s 2ms/step - loss: 2039763.6250 - accuracy: 0.0000e+00 - val_loss: 691062.3125 - val_accuracy: 0.0000e+00\n",
            "Epoch 124/200\n",
            "170/170 [==============================] - 0s 1ms/step - loss: 2048190.6250 - accuracy: 0.0000e+00 - val_loss: 886424.4375 - val_accuracy: 0.0000e+00\n",
            "Epoch 125/200\n",
            "170/170 [==============================] - 0s 1ms/step - loss: 2016293.0000 - accuracy: 0.0000e+00 - val_loss: 1477863.8750 - val_accuracy: 0.0000e+00\n",
            "Epoch 126/200\n",
            "170/170 [==============================] - 0s 1ms/step - loss: 2071573.1250 - accuracy: 0.0000e+00 - val_loss: 725920.7500 - val_accuracy: 0.0000e+00\n",
            "Epoch 127/200\n",
            "170/170 [==============================] - 0s 1ms/step - loss: 2044587.2500 - accuracy: 0.0000e+00 - val_loss: 814738.8125 - val_accuracy: 0.0000e+00\n",
            "Epoch 128/200\n",
            "170/170 [==============================] - 0s 1ms/step - loss: 2035265.6250 - accuracy: 0.0000e+00 - val_loss: 887867.0625 - val_accuracy: 0.0000e+00\n",
            "Epoch 129/200\n",
            "170/170 [==============================] - 0s 1ms/step - loss: 2054205.5000 - accuracy: 0.0000e+00 - val_loss: 724514.3125 - val_accuracy: 0.0000e+00\n",
            "Epoch 130/200\n",
            "170/170 [==============================] - 0s 1ms/step - loss: 2034386.2500 - accuracy: 0.0000e+00 - val_loss: 784662.2500 - val_accuracy: 0.0000e+00\n",
            "Epoch 131/200\n",
            "170/170 [==============================] - 0s 1ms/step - loss: 2045346.3750 - accuracy: 0.0000e+00 - val_loss: 617216.7500 - val_accuracy: 0.0000e+00\n",
            "Epoch 132/200\n",
            "170/170 [==============================] - 0s 1ms/step - loss: 2017203.6250 - accuracy: 0.0000e+00 - val_loss: 1113411.2500 - val_accuracy: 0.0000e+00\n",
            "Epoch 133/200\n",
            "170/170 [==============================] - 0s 1ms/step - loss: 2042456.7500 - accuracy: 0.0000e+00 - val_loss: 1003196.8125 - val_accuracy: 0.0000e+00\n",
            "Epoch 134/200\n",
            "170/170 [==============================] - 0s 1ms/step - loss: 2001437.1250 - accuracy: 0.0000e+00 - val_loss: 697766.5625 - val_accuracy: 0.0000e+00\n",
            "Epoch 135/200\n",
            "170/170 [==============================] - 0s 1ms/step - loss: 2045982.1250 - accuracy: 0.0000e+00 - val_loss: 871345.3750 - val_accuracy: 0.0000e+00\n",
            "Epoch 136/200\n",
            "170/170 [==============================] - 0s 1ms/step - loss: 2083090.6250 - accuracy: 0.0000e+00 - val_loss: 1334275.3750 - val_accuracy: 0.0000e+00\n",
            "Epoch 137/200\n",
            "170/170 [==============================] - 0s 1ms/step - loss: 2038734.2500 - accuracy: 0.0000e+00 - val_loss: 672584.3125 - val_accuracy: 0.0000e+00\n",
            "Epoch 138/200\n",
            "170/170 [==============================] - 0s 1ms/step - loss: 2026003.7500 - accuracy: 0.0000e+00 - val_loss: 657186.6250 - val_accuracy: 0.0000e+00\n",
            "Epoch 139/200\n",
            "170/170 [==============================] - 0s 1ms/step - loss: 2024427.8750 - accuracy: 0.0000e+00 - val_loss: 768611.8125 - val_accuracy: 0.0000e+00\n",
            "Epoch 140/200\n",
            "170/170 [==============================] - 0s 1ms/step - loss: 2022705.5000 - accuracy: 0.0000e+00 - val_loss: 816080.4375 - val_accuracy: 0.0000e+00\n",
            "Epoch 141/200\n",
            "170/170 [==============================] - 0s 1ms/step - loss: 2016346.3750 - accuracy: 0.0000e+00 - val_loss: 1356217.3750 - val_accuracy: 0.0000e+00\n",
            "Epoch 142/200\n",
            "170/170 [==============================] - 0s 1ms/step - loss: 2079627.8750 - accuracy: 0.0000e+00 - val_loss: 773038.8125 - val_accuracy: 0.0000e+00\n",
            "Epoch 143/200\n",
            "170/170 [==============================] - 0s 1ms/step - loss: 2035448.3750 - accuracy: 0.0000e+00 - val_loss: 1076956.7500 - val_accuracy: 0.0000e+00\n",
            "Epoch 144/200\n",
            "170/170 [==============================] - 0s 1ms/step - loss: 2073822.7500 - accuracy: 0.0000e+00 - val_loss: 677312.3125 - val_accuracy: 0.0000e+00\n",
            "Epoch 145/200\n",
            "170/170 [==============================] - 0s 1ms/step - loss: 1998250.1250 - accuracy: 0.0000e+00 - val_loss: 714514.7500 - val_accuracy: 0.0000e+00\n",
            "Epoch 146/200\n",
            "170/170 [==============================] - 0s 1ms/step - loss: 1986281.0000 - accuracy: 0.0000e+00 - val_loss: 930423.1250 - val_accuracy: 0.0000e+00\n",
            "Epoch 147/200\n",
            "170/170 [==============================] - 0s 1ms/step - loss: 2070023.1250 - accuracy: 0.0000e+00 - val_loss: 1161872.1250 - val_accuracy: 0.0000e+00\n",
            "Epoch 148/200\n",
            "170/170 [==============================] - 0s 1ms/step - loss: 1994785.0000 - accuracy: 0.0000e+00 - val_loss: 718176.7500 - val_accuracy: 0.0000e+00\n",
            "Epoch 149/200\n",
            "170/170 [==============================] - 0s 1ms/step - loss: 2046731.7500 - accuracy: 0.0000e+00 - val_loss: 763073.1250 - val_accuracy: 0.0000e+00\n",
            "Epoch 150/200\n",
            "170/170 [==============================] - 0s 1ms/step - loss: 2011733.1250 - accuracy: 0.0000e+00 - val_loss: 801846.6875 - val_accuracy: 0.0000e+00\n",
            "Epoch 151/200\n",
            "170/170 [==============================] - 0s 1ms/step - loss: 2058578.1250 - accuracy: 0.0000e+00 - val_loss: 1308447.0000 - val_accuracy: 0.0000e+00\n",
            "Epoch 152/200\n",
            "170/170 [==============================] - 0s 1ms/step - loss: 2083261.5000 - accuracy: 0.0000e+00 - val_loss: 750984.6875 - val_accuracy: 0.0000e+00\n",
            "Epoch 153/200\n",
            "170/170 [==============================] - 0s 1ms/step - loss: 2045259.1250 - accuracy: 0.0000e+00 - val_loss: 1493756.5000 - val_accuracy: 0.0000e+00\n",
            "Epoch 154/200\n",
            "170/170 [==============================] - 0s 1ms/step - loss: 2062438.0000 - accuracy: 0.0000e+00 - val_loss: 837031.0000 - val_accuracy: 0.0000e+00\n",
            "Epoch 155/200\n",
            "170/170 [==============================] - 0s 1ms/step - loss: 2035362.6250 - accuracy: 0.0000e+00 - val_loss: 678418.3750 - val_accuracy: 0.0000e+00\n",
            "Epoch 156/200\n",
            "170/170 [==============================] - 0s 1ms/step - loss: 1996961.2500 - accuracy: 0.0000e+00 - val_loss: 812709.2500 - val_accuracy: 0.0000e+00\n",
            "Epoch 157/200\n",
            "170/170 [==============================] - 0s 1ms/step - loss: 2052920.1250 - accuracy: 0.0000e+00 - val_loss: 989088.9375 - val_accuracy: 0.0000e+00\n",
            "Epoch 158/200\n",
            "170/170 [==============================] - 0s 1ms/step - loss: 2036484.8750 - accuracy: 0.0000e+00 - val_loss: 965016.8750 - val_accuracy: 0.0000e+00\n",
            "Epoch 159/200\n",
            "170/170 [==============================] - 0s 1ms/step - loss: 2043078.3750 - accuracy: 0.0000e+00 - val_loss: 643043.9375 - val_accuracy: 0.0000e+00\n",
            "Epoch 160/200\n",
            "170/170 [==============================] - 0s 1ms/step - loss: 2065190.0000 - accuracy: 0.0000e+00 - val_loss: 978874.1250 - val_accuracy: 0.0000e+00\n",
            "Epoch 161/200\n",
            "170/170 [==============================] - 0s 1ms/step - loss: 2002639.0000 - accuracy: 0.0000e+00 - val_loss: 720572.7500 - val_accuracy: 0.0000e+00\n",
            "Epoch 162/200\n",
            "170/170 [==============================] - 0s 1ms/step - loss: 2023304.7500 - accuracy: 0.0000e+00 - val_loss: 768966.4375 - val_accuracy: 0.0000e+00\n",
            "Epoch 163/200\n",
            "170/170 [==============================] - 0s 1ms/step - loss: 2056091.2500 - accuracy: 0.0000e+00 - val_loss: 861788.0625 - val_accuracy: 0.0000e+00\n",
            "Epoch 164/200\n",
            "170/170 [==============================] - 0s 1ms/step - loss: 2046206.0000 - accuracy: 0.0000e+00 - val_loss: 1096649.8750 - val_accuracy: 0.0000e+00\n",
            "Epoch 165/200\n",
            "170/170 [==============================] - 0s 1ms/step - loss: 2027879.0000 - accuracy: 0.0000e+00 - val_loss: 737173.9375 - val_accuracy: 0.0000e+00\n",
            "Epoch 166/200\n",
            "170/170 [==============================] - 0s 1ms/step - loss: 2093785.2500 - accuracy: 0.0000e+00 - val_loss: 752856.5625 - val_accuracy: 0.0000e+00\n",
            "Epoch 167/200\n",
            "170/170 [==============================] - 0s 1ms/step - loss: 2025335.1250 - accuracy: 0.0000e+00 - val_loss: 845800.3750 - val_accuracy: 0.0000e+00\n",
            "Epoch 168/200\n",
            "170/170 [==============================] - 0s 1ms/step - loss: 2027406.8750 - accuracy: 0.0000e+00 - val_loss: 1057488.3750 - val_accuracy: 0.0000e+00\n",
            "Epoch 169/200\n",
            "170/170 [==============================] - 0s 1ms/step - loss: 2051427.7500 - accuracy: 0.0000e+00 - val_loss: 745568.3750 - val_accuracy: 0.0000e+00\n",
            "Epoch 170/200\n",
            "170/170 [==============================] - 0s 1ms/step - loss: 2054511.0000 - accuracy: 0.0000e+00 - val_loss: 675123.8125 - val_accuracy: 0.0000e+00\n",
            "Epoch 171/200\n",
            "170/170 [==============================] - 0s 1ms/step - loss: 2013803.5000 - accuracy: 0.0000e+00 - val_loss: 842387.2500 - val_accuracy: 0.0000e+00\n",
            "Epoch 172/200\n",
            "170/170 [==============================] - 0s 1ms/step - loss: 1997803.3750 - accuracy: 0.0000e+00 - val_loss: 797904.1875 - val_accuracy: 0.0000e+00\n",
            "Epoch 173/200\n",
            "170/170 [==============================] - 0s 1ms/step - loss: 1992237.8750 - accuracy: 0.0000e+00 - val_loss: 832166.8125 - val_accuracy: 0.0000e+00\n",
            "Epoch 174/200\n",
            "170/170 [==============================] - 0s 1ms/step - loss: 1972730.3750 - accuracy: 0.0000e+00 - val_loss: 701288.5000 - val_accuracy: 0.0000e+00\n",
            "Epoch 175/200\n",
            "170/170 [==============================] - 0s 1ms/step - loss: 2014316.7500 - accuracy: 0.0000e+00 - val_loss: 1356968.1250 - val_accuracy: 0.0000e+00\n",
            "Epoch 176/200\n",
            "170/170 [==============================] - 0s 1ms/step - loss: 2063632.7500 - accuracy: 0.0000e+00 - val_loss: 744170.3125 - val_accuracy: 0.0000e+00\n",
            "Epoch 177/200\n",
            "170/170 [==============================] - 0s 1ms/step - loss: 1993744.3750 - accuracy: 0.0000e+00 - val_loss: 736702.6250 - val_accuracy: 0.0000e+00\n",
            "Epoch 178/200\n",
            "170/170 [==============================] - 0s 1ms/step - loss: 1971991.5000 - accuracy: 0.0000e+00 - val_loss: 898195.7500 - val_accuracy: 0.0000e+00\n",
            "Epoch 179/200\n",
            "170/170 [==============================] - 0s 1ms/step - loss: 2042100.8750 - accuracy: 0.0000e+00 - val_loss: 894888.3125 - val_accuracy: 0.0000e+00\n",
            "Epoch 180/200\n",
            "170/170 [==============================] - 0s 1ms/step - loss: 2070719.8750 - accuracy: 0.0000e+00 - val_loss: 802941.1875 - val_accuracy: 0.0000e+00\n",
            "Epoch 181/200\n",
            "170/170 [==============================] - 0s 1ms/step - loss: 1985111.0000 - accuracy: 0.0000e+00 - val_loss: 790101.6875 - val_accuracy: 0.0000e+00\n",
            "Epoch 182/200\n",
            "170/170 [==============================] - 0s 1ms/step - loss: 2026216.3750 - accuracy: 0.0000e+00 - val_loss: 818953.3750 - val_accuracy: 0.0000e+00\n",
            "Epoch 183/200\n",
            "170/170 [==============================] - 0s 1ms/step - loss: 1991388.6250 - accuracy: 0.0000e+00 - val_loss: 718033.6250 - val_accuracy: 0.0000e+00\n",
            "Epoch 184/200\n",
            "170/170 [==============================] - 0s 1ms/step - loss: 2025339.5000 - accuracy: 0.0000e+00 - val_loss: 1267383.5000 - val_accuracy: 0.0000e+00\n",
            "Epoch 185/200\n",
            "170/170 [==============================] - 0s 1ms/step - loss: 2006173.6250 - accuracy: 0.0000e+00 - val_loss: 822554.7500 - val_accuracy: 0.0000e+00\n",
            "Epoch 186/200\n",
            "170/170 [==============================] - 0s 1ms/step - loss: 2004063.0000 - accuracy: 0.0000e+00 - val_loss: 903721.6250 - val_accuracy: 0.0000e+00\n",
            "Epoch 187/200\n",
            "170/170 [==============================] - 0s 1ms/step - loss: 2092985.2500 - accuracy: 0.0000e+00 - val_loss: 837939.5625 - val_accuracy: 0.0000e+00\n",
            "Epoch 188/200\n",
            "170/170 [==============================] - 0s 1ms/step - loss: 1974505.3750 - accuracy: 0.0000e+00 - val_loss: 869923.6875 - val_accuracy: 0.0000e+00\n",
            "Epoch 189/200\n",
            "170/170 [==============================] - 0s 1ms/step - loss: 2041958.3750 - accuracy: 0.0000e+00 - val_loss: 787286.8125 - val_accuracy: 0.0000e+00\n",
            "Epoch 190/200\n",
            "170/170 [==============================] - 0s 1ms/step - loss: 2019004.8750 - accuracy: 0.0000e+00 - val_loss: 1143868.2500 - val_accuracy: 0.0000e+00\n",
            "Epoch 191/200\n",
            "170/170 [==============================] - 0s 1ms/step - loss: 2030533.3750 - accuracy: 0.0000e+00 - val_loss: 630707.4375 - val_accuracy: 0.0000e+00\n",
            "Epoch 192/200\n",
            "170/170 [==============================] - 0s 1ms/step - loss: 2078918.3750 - accuracy: 0.0000e+00 - val_loss: 660157.7500 - val_accuracy: 0.0000e+00\n",
            "Epoch 193/200\n",
            "170/170 [==============================] - 0s 1ms/step - loss: 1974539.1250 - accuracy: 0.0000e+00 - val_loss: 645898.4375 - val_accuracy: 0.0000e+00\n",
            "Epoch 194/200\n",
            "170/170 [==============================] - 0s 1ms/step - loss: 2034326.6250 - accuracy: 0.0000e+00 - val_loss: 1409804.3750 - val_accuracy: 0.0000e+00\n",
            "Epoch 195/200\n",
            "170/170 [==============================] - 0s 1ms/step - loss: 2004871.8750 - accuracy: 0.0000e+00 - val_loss: 838915.8125 - val_accuracy: 0.0000e+00\n",
            "Epoch 196/200\n",
            "170/170 [==============================] - 0s 1ms/step - loss: 2052852.3750 - accuracy: 0.0000e+00 - val_loss: 905048.7500 - val_accuracy: 0.0000e+00\n",
            "Epoch 197/200\n",
            "170/170 [==============================] - 0s 1ms/step - loss: 2063317.8750 - accuracy: 0.0000e+00 - val_loss: 1089093.6250 - val_accuracy: 0.0000e+00\n",
            "Epoch 198/200\n",
            "170/170 [==============================] - 0s 1ms/step - loss: 2001876.3750 - accuracy: 0.0000e+00 - val_loss: 789769.6250 - val_accuracy: 0.0000e+00\n",
            "Epoch 199/200\n",
            "170/170 [==============================] - 0s 1ms/step - loss: 2013202.5000 - accuracy: 0.0000e+00 - val_loss: 712301.4375 - val_accuracy: 0.0000e+00\n",
            "Epoch 200/200\n",
            "170/170 [==============================] - 0s 1ms/step - loss: 2030829.8750 - accuracy: 0.0000e+00 - val_loss: 965206.5000 - val_accuracy: 0.0000e+00\n"
          ],
          "name": "stdout"
        }
      ]
    },
    {
      "cell_type": "markdown",
      "metadata": {
        "id": "UpMYyLKXeLO3",
        "colab_type": "text"
      },
      "source": [
        "### 모델평가하기"
      ]
    },
    {
      "cell_type": "code",
      "metadata": {
        "id": "euGBAIoneNPn",
        "colab_type": "code",
        "colab": {
          "base_uri": "https://localhost:8080/",
          "height": 51
        },
        "outputId": "edfd2518-a3e2-494c-9893-77e0bd5c66c5"
      },
      "source": [
        "scores = model.evaluate(x_test, y_test)\n",
        "print(\"%s : %.2f%%\" %(model.metrics_names[1], scores[1]*100))"
      ],
      "execution_count": 14,
      "outputs": [
        {
          "output_type": "stream",
          "text": [
            "29/29 [==============================] - 0s 1ms/step - loss: 1975501.3750 - accuracy: 0.0000e+00\n",
            "accuracy : 0.00%\n"
          ],
          "name": "stdout"
        }
      ]
    },
    {
      "cell_type": "markdown",
      "metadata": {
        "id": "oqhR-c9RyK5j",
        "colab_type": "text"
      },
      "source": [
        "### 결과 예측하기"
      ]
    },
    {
      "cell_type": "code",
      "metadata": {
        "id": "8HzJkHDh1buY",
        "colab_type": "code",
        "outputId": "b3c684e8-db7c-4c88-8e29-ce827d887ae6",
        "colab": {
          "base_uri": "https://localhost:8080/",
          "height": 34
        }
      },
      "source": [
        "data = [20, 5, 30, 4]\n",
        "avg_temp, min_temp, max_temp, rain_fall = data\n",
        "print(f\"평균온도 {avg_temp} / 최저온도 {min_temp} / 최고온도 {max_temp} / 강수량 {rain_fall}의 배추가격=\",model.predict(np.array(data).reshape(1,4)))\n"
      ],
      "execution_count": 13,
      "outputs": [
        {
          "output_type": "stream",
          "text": [
            "평균온도 20 / 최저온도 5 / 최고온도 30 / 강수량 4의 배추가격= [[3896.393]]\n"
          ],
          "name": "stdout"
        }
      ]
    },
    {
      "cell_type": "markdown",
      "metadata": {
        "id": "cWvXbbbf333z",
        "colab_type": "text"
      },
      "source": [
        "### 모델 저장하기"
      ]
    },
    {
      "cell_type": "code",
      "metadata": {
        "id": "YRZFfG0i38ps",
        "colab_type": "code",
        "colab": {}
      },
      "source": [
        "model.save('/content/drive/My Drive/data/ML/배추가격예상하기/predic_cabbage.h5')"
      ],
      "execution_count": 0,
      "outputs": []
    },
    {
      "cell_type": "markdown",
      "metadata": {
        "id": "NQQ_psVK9OO7",
        "colab_type": "text"
      },
      "source": [
        "### tensorflowjs변환\n",
        "참고 : https://www.tensorflow.org/js/tutorials/conversion/import_keras"
      ]
    },
    {
      "cell_type": "code",
      "metadata": {
        "id": "Apw3j3kC4JUu",
        "colab_type": "code",
        "colab": {}
      },
      "source": [
        "!pip install tensorflowjs"
      ],
      "execution_count": 0,
      "outputs": []
    },
    {
      "cell_type": "code",
      "metadata": {
        "id": "3UP7cG0b8uiN",
        "colab_type": "code",
        "colab": {}
      },
      "source": [
        "import tensorflowjs as tfjs"
      ],
      "execution_count": 0,
      "outputs": []
    },
    {
      "cell_type": "code",
      "metadata": {
        "id": "PMGgz8rF75c8",
        "colab_type": "code",
        "outputId": "221dd2b7-ed6f-4c91-f756-73322ed12cfd",
        "colab": {
          "base_uri": "https://localhost:8080/",
          "height": 71
        }
      },
      "source": [
        "\n",
        "tfjs.converters.save_keras_model(model, '/content/drive/My Drive/data/ML/배추가격예상하기_200507')"
      ],
      "execution_count": 0,
      "outputs": [
        {
          "output_type": "stream",
          "text": [
            "/usr/local/lib/python3.6/dist-packages/tensorflowjs/converters/keras_h5_conversion.py:122: H5pyDeprecationWarning: The default file mode will change to 'r' (read-only) in h5py 3.0. To suppress this warning, pass the mode you need to h5py.File(), or set the global default h5.get_config().default_file_mode, or set the environment variable H5PY_DEFAULT_READONLY=1. Available modes are: 'r', 'r+', 'w', 'w-'/'x', 'a'. See the docs for details.\n",
            "  return h5py.File(h5file)\n"
          ],
          "name": "stderr"
        }
      ]
    },
    {
      "cell_type": "markdown",
      "metadata": {
        "id": "X4k5k7688S2D",
        "colab_type": "text"
      },
      "source": [
        "### 모델 불러오기\n",
        "참고 : https://www.tensorflow.org/tutorials/keras/save_and_load"
      ]
    },
    {
      "cell_type": "code",
      "metadata": {
        "id": "v-hYogWKB1qO",
        "colab_type": "code",
        "outputId": "fe739518-787d-417e-af0e-6bb1ed471017",
        "colab": {
          "base_uri": "https://localhost:8080/",
          "height": 204
        }
      },
      "source": [
        "from tensorflow.keras.models import Sequential\n",
        "from tensorflow.keras.layers import Dense\n",
        "from tensorflow import keras\n",
        "\n",
        "import tensorflow as tf\n",
        "import numpy as np\n",
        "import pandas as pd\n",
        "\n",
        "model = Sequential()\n",
        "model.add(Dense(1, input_dim = 4))\n",
        "\n",
        "# 가중치와 옵티마이저를 포함하여 정확히 동일한 모델을 다시 생성합니다\n",
        "new_model = keras.models.load_model('/content/drive/My Drive/data/ML/배추가격예상하기/predic_cabbage.h5')\n",
        "new_model.summary()\n",
        "\n",
        "data = [20, 5, 30, 4]\n",
        "avg_temp, min_temp, max_temp, rain_fall = data\n",
        "print(f\"평균온도 {avg_temp} / 최저온도 {min_temp} / 최고온도 {max_temp} / 강수량 {rain_fall}의 배추가격=\",model.predict(np.array(data).reshape(1,4)))\n"
      ],
      "execution_count": 0,
      "outputs": [
        {
          "output_type": "stream",
          "text": [
            "Model: \"sequential_3\"\n",
            "_________________________________________________________________\n",
            "Layer (type)                 Output Shape              Param #   \n",
            "=================================================================\n",
            "dense_3 (Dense)              (None, 1)                 5         \n",
            "=================================================================\n",
            "Total params: 5\n",
            "Trainable params: 5\n",
            "Non-trainable params: 0\n",
            "_________________________________________________________________\n",
            "평균온도 20 / 최저온도 5 / 최고온도 30 / 강수량 4의 배추가격= [[-16.917898]]\n"
          ],
          "name": "stdout"
        }
      ]
    },
    {
      "cell_type": "code",
      "metadata": {
        "id": "fFXfNRafqce4",
        "colab_type": "code",
        "colab": {}
      },
      "source": [
        ""
      ],
      "execution_count": 0,
      "outputs": []
    }
  ]
}